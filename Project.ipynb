{
 "cells": [
  {
   "cell_type": "markdown",
   "id": "d40f3be6",
   "metadata": {},
   "source": [
    "## Import the necessary packages"
   ]
  },
  {
   "cell_type": "code",
   "execution_count": 1,
   "id": "d9afc806",
   "metadata": {},
   "outputs": [],
   "source": [
    "import numpy\n",
    "import matplotlib"
   ]
  },
  {
   "cell_type": "markdown",
   "id": "21840667",
   "metadata": {},
   "source": [
    "## Create a random dataset for the travelling salesman problem"
   ]
  },
  {
   "cell_type": "markdown",
   "id": "16dc8b6e",
   "metadata": {},
   "source": [
    "In this project we will investigate a problem with 20 nodes and (20*19)/2 = 190 weighted edges. Assume the cost to travel from one city to another is equivalent to that of returning from another city, i.e. The Symmetric TSP. Also we assume the cost of travelling from A to B, then to C is always greater than or equal to travelling directly from A to C, i.e. it satisfies the triangle inequality. "
   ]
  },
  {
   "cell_type": "code",
   "execution_count": null,
   "id": "d643dca5",
   "metadata": {},
   "outputs": [],
   "source": []
  },
  {
   "cell_type": "code",
   "execution_count": null,
   "id": "264d442d",
   "metadata": {},
   "outputs": [],
   "source": []
  }
 ],
 "metadata": {
  "kernelspec": {
   "display_name": "Python 3",
   "language": "python",
   "name": "python3"
  },
  "language_info": {
   "codemirror_mode": {
    "name": "ipython",
    "version": 3
   },
   "file_extension": ".py",
   "mimetype": "text/x-python",
   "name": "python",
   "nbconvert_exporter": "python",
   "pygments_lexer": "ipython3",
   "version": "3.8.8"
  }
 },
 "nbformat": 4,
 "nbformat_minor": 5
}
